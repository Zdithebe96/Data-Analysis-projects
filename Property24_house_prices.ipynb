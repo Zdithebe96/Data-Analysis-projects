{
  "nbformat": 4,
  "nbformat_minor": 0,
  "metadata": {
    "colab": {
      "provenance": [],
      "authorship_tag": "ABX9TyNKLZBs9ikO35xs45Cvjwqa"
    },
    "kernelspec": {
      "name": "python3",
      "display_name": "Python 3"
    },
    "language_info": {
      "name": "python"
    }
  },
  "cells": [
    {
      "cell_type": "markdown",
      "source": [
        "# **OVERVIEW**"
      ],
      "metadata": {
        "id": "bbzeDwAiC4-c"
      }
    },
    {
      "cell_type": "markdown",
      "source": [
        "The purpose of this project is to do exploratory data analysis (EDA) on the raw data extracted from Property24 Botswana to gain insight on the data."
      ],
      "metadata": {
        "id": "QYSMJHu1CKUU"
      }
    },
    {
      "cell_type": "markdown",
      "source": [
        "**STEP 1: IMPORT LIBRARIES AND PACKAGES TO SCRAPE THE DATA FROM THE PROPERTY24 WEBSITE.**"
      ],
      "metadata": {
        "id": "rwU5nMdwCp6Z"
      }
    },
    {
      "cell_type": "markdown",
      "source": [
        "Credit: SandileM for the raw data."
      ],
      "metadata": {
        "id": "eook2NnqmMPy"
      }
    }
  ]
}